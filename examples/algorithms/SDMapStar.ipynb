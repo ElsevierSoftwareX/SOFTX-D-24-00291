{
 "cells": [
  {
   "cell_type": "markdown",
   "metadata": {},
   "source": [
    "# Example of using the SDMap* algorithm"
   ]
  },
  {
   "cell_type": "markdown",
   "metadata": {},
   "source": [
    "## About this document\n",
    "\n",
    "The purpose of this document is to show an example of using the SDMap* algorithm.\n",
    "\n",
    "In the following sections, an introduction of the this algorithm will be presented, followed by instructions to install the `subgroups` library. Then, the execution process of the SDMap* algorithm will be described, including the necessary steps to consider. Finally, the results obtained from the application of this algorithm will be presented, highlighting the information obtained in the output file and the one that can be accessed through the model properties."
   ]
  },
  {
   "cell_type": "markdown",
   "metadata": {},
   "source": [
    "## SDMap* algorithm\n",
    "\n",
    "SDMap* [[1]](#1) is a subgroup discovery algorithm that modifies the original design of SDMap to add some pruning techniques that improve performance. These changes are:\n",
    "\n",
    "- A list of best subgroups is used to prune patterns whose optimistic estimate is worse than the quality of the worst subgroup in the list.\n",
    "- In each call to FpTree where the tree does not have a single path, selectors are sorted so that those with a better optimistic estimate are processed first.\n",
    "- Each new pattern generated after this sorting is checked so that its optimistic estimate is better than the quality of the worst subgroup in the list of best subgroups. If it is not, the pattern is discarded.\n",
    "- In the construction of conditional FpTrees, branches whose optimistic estimate is worse than the quality of the worst subgroup in the list of best subgroups are discarded."
   ]
  },
  {
   "cell_type": "markdown",
   "metadata": {},
   "source": [
    "## Installing the `subgroups` library\n",
    "\n",
    "To install the `subgroups` library, simply execute the following cell:"
   ]
  },
  {
   "cell_type": "code",
   "execution_count": 1,
   "metadata": {},
   "outputs": [
    {
     "name": "stdout",
     "output_type": "stream",
     "text": [
      "Requirement already satisfied: subgroups in c:\\users\\almc\\anaconda3\\lib\\site-packages (0.1.3)\n",
      "Requirement already satisfied: bitarray>=2.7.6 in c:\\users\\almc\\anaconda3\\lib\\site-packages (from subgroups) (2.7.6)\n",
      "Requirement already satisfied: pandas>=2.0.3 in c:\\users\\almc\\anaconda3\\lib\\site-packages (from subgroups) (2.0.3)\n",
      "Requirement already satisfied: statsmodels>=0.14.0 in c:\\users\\almc\\anaconda3\\lib\\site-packages (from subgroups) (0.14.0)\n",
      "Requirement already satisfied: tzdata>=2022.1 in c:\\users\\almc\\anaconda3\\lib\\site-packages (from pandas>=2.0.3->subgroups) (2023.3)\n",
      "Requirement already satisfied: numpy>=1.20.3 in c:\\users\\almc\\anaconda3\\lib\\site-packages (from pandas>=2.0.3->subgroups) (1.20.3)\n",
      "Requirement already satisfied: pytz>=2020.1 in c:\\users\\almc\\anaconda3\\lib\\site-packages (from pandas>=2.0.3->subgroups) (2021.3)\n",
      "Requirement already satisfied: python-dateutil>=2.8.2 in c:\\users\\almc\\anaconda3\\lib\\site-packages (from pandas>=2.0.3->subgroups) (2.8.2)\n",
      "Requirement already satisfied: six>=1.5 in c:\\users\\almc\\anaconda3\\lib\\site-packages (from python-dateutil>=2.8.2->pandas>=2.0.3->subgroups) (1.16.0)\n",
      "Requirement already satisfied: scipy!=1.9.2,>=1.4 in c:\\users\\almc\\anaconda3\\lib\\site-packages (from statsmodels>=0.14.0->subgroups) (1.10.1)\n",
      "Requirement already satisfied: patsy>=0.5.2 in c:\\users\\almc\\anaconda3\\lib\\site-packages (from statsmodels>=0.14.0->subgroups) (0.5.2)\n",
      "Requirement already satisfied: packaging>=21.3 in c:\\users\\almc\\anaconda3\\lib\\site-packages (from statsmodels>=0.14.0->subgroups) (23.1)\n"
     ]
    }
   ],
   "source": [
    "!pip install subgroups"
   ]
  },
  {
   "cell_type": "markdown",
   "metadata": {
    "id": "q50qLPkdV63Q"
   },
   "source": [
    "To verify that the installation was successful, we may run the following cell:"
   ]
  },
  {
   "cell_type": "code",
   "execution_count": 2,
   "metadata": {
    "id": "MMwsdmTzV63Q",
    "outputId": "69b5d3a1-3181-4bc0-9019-b4396849bb0b"
   },
   "outputs": [
    {
     "name": "stderr",
     "output_type": "stream",
     "text": [
      "test_Operator_evaluate_method (tests.core.test_operator.TestOperator) ... ok\n",
      "test_Operator_evaluate_method_with_pandasSeries (tests.core.test_operator.TestOperator) ... ok\n",
      "test_Operator_generate_from_str_method (tests.core.test_operator.TestOperator) ... ok\n",
      "test_Operator_string_representation (tests.core.test_operator.TestOperator) ... ok\n",
      "test_Pattern_contains_method (tests.core.test_pattern.TestPattern) ... ok\n",
      "test_Pattern_general (tests.core.test_pattern.TestPattern) ... ok\n",
      "test_Pattern_is_contained_method (tests.core.test_pattern.TestPattern) ... ok\n",
      "test_Pattern_is_refinement_method (tests.core.test_pattern.TestPattern) ... ok\n",
      "test_Selector_attributes (tests.core.test_selector.TestSelector) ... ok\n",
      "test_Selector_comparisons (tests.core.test_selector.TestSelector) ... ok\n",
      "test_Selector_creation_process (tests.core.test_selector.TestSelector) ... ok\n",
      "test_Selector_deletion_process (tests.core.test_selector.TestSelector) ... ok\n",
      "test_Selector_generate_from_str_method (tests.core.test_selector.TestSelector) ... ok\n",
      "test_Selector_match_method (tests.core.test_selector.TestSelector) ... ok\n",
      "test_Selector_same_value_different_type (tests.core.test_selector.TestSelector) ... ok\n",
      "test_Subgroup_filter (tests.core.test_subgroup.TestSubgroup) ... ok\n",
      "test_Subgroup_general (tests.core.test_subgroup.TestSubgroup) ... ok\n",
      "test_Subgroup_is_refinement_method (tests.core.test_subgroup.TestSubgroup) ... ok\n",
      "\n",
      "----------------------------------------------------------------------\n",
      "Ran 18 tests in 0.026s\n",
      "\n",
      "OK\n",
      "test_quality_measures_compute (tests.quality_measures.test_quality_measures.TestQualityMeasures) ... ok\n",
      "test_quality_measures_general (tests.quality_measures.test_quality_measures.TestQualityMeasures) ... ok\n",
      "test_quality_measures_value_of_class_variables (tests.quality_measures.test_quality_measures.TestQualityMeasures) ... ok\n",
      "\n",
      "----------------------------------------------------------------------\n",
      "Ran 3 tests in 0.002s\n",
      "\n",
      "OK\n",
      "test_FPTreeForSDMap_build_tree_1 (tests.data_structures.test_fp_tree_for_sdmap.TestFPTreeForSDMap) ... ok\n",
      "test_FPTreeForSDMap_build_tree_2 (tests.data_structures.test_fp_tree_for_sdmap.TestFPTreeForSDMap) ... ok\n",
      "test_FPTreeForSDMap_build_tree_3 (tests.data_structures.test_fp_tree_for_sdmap.TestFPTreeForSDMap) ... ok\n",
      "test_FPTreeForSDMap_build_tree_4 (tests.data_structures.test_fp_tree_for_sdmap.TestFPTreeForSDMap) ... ok\n",
      "test_FPTreeForSDMap_generate_conditional_fp_tree_1 (tests.data_structures.test_fp_tree_for_sdmap.TestFPTreeForSDMap) ... ok\n",
      "test_FPTreeForSDMap_generate_conditional_fp_tree_2 (tests.data_structures.test_fp_tree_for_sdmap.TestFPTreeForSDMap) ... ok\n",
      "test_FPTreeForSDMap_generate_set_of_frequent_selectors_1 (tests.data_structures.test_fp_tree_for_sdmap.TestFPTreeForSDMap) ... "
     ]
    },
    {
     "name": "stdout",
     "output_type": "stream",
     "text": [
      "\n",
      "\n",
      "##################################\n",
      "########## CORE PACKAGE ##########\n",
      "##################################\n",
      "\n",
      "\n",
      "##############################################\n",
      "########## QUALITY MEASURES PACKAGE ##########\n",
      "##############################################\n",
      "\n",
      "\n",
      "#############################################\n",
      "########## DATA STRUCTURES PACKAGE ##########\n",
      "#############################################\n"
     ]
    },
    {
     "name": "stderr",
     "output_type": "stream",
     "text": [
      "ok\n",
      "test_FPTreeForSDMap_generate_set_of_frequent_selectors_2 (tests.data_structures.test_fp_tree_for_sdmap.TestFPTreeForSDMap) ... ok\n",
      "test_FPTreeForSDMap_generate_set_of_frequent_selectors_3 (tests.data_structures.test_fp_tree_for_sdmap.TestFPTreeForSDMap) ... ok\n",
      "test_FPTreeNode_general (tests.data_structures.test_fp_tree_node.TestFPTreeNode) ... ok\n",
      "test_subgroup_list_1 (tests.data_structures.test_subgroup_list.TestSubgroupList) ... ok\n",
      "test_subgroup_list_2 (tests.data_structures.test_subgroup_list.TestSubgroupList) ... ok\n",
      "test_subgroup_list_3 (tests.data_structures.test_subgroup_list.TestSubgroupList) ... ok\n",
      "test_subgroup_list_4 (tests.data_structures.test_subgroup_list.TestSubgroupList) ... ok\n",
      "test_vertical_list_1 (tests.data_structures.test_vertical_list_with_bitsets.TestVerticalListWithBitsets) ... ok\n",
      "test_vertical_list_2 (tests.data_structures.test_vertical_list_with_bitsets.TestVerticalListWithBitsets) ... ok\n",
      "test_vertical_list_3 (tests.data_structures.test_vertical_list_with_bitsets.TestVerticalListWithBitsets) ... ok\n",
      "test_vertical_list_str_method (tests.data_structures.test_vertical_list_with_bitsets.TestVerticalListWithBitsets) ... ok\n",
      "test_vertical_list_1 (tests.data_structures.test_vertical_list_with_sets.TestVerticalListWithSets) ... ok\n",
      "test_vertical_list_2 (tests.data_structures.test_vertical_list_with_sets.TestVerticalListWithSets) ... ok\n",
      "test_vertical_list_3 (tests.data_structures.test_vertical_list_with_sets.TestVerticalListWithSets) ... ok\n",
      "test_vertical_list_str_method (tests.data_structures.test_vertical_list_with_sets.TestVerticalListWithSets) ... ok\n",
      "\n",
      "----------------------------------------------------------------------\n",
      "Ran 22 tests in 0.191s\n",
      "\n",
      "OK\n",
      "test_DSLM_compute_overlap_factor_function_1 (tests.algorithms.subgroup_lists.test_dslm.TestDSLM) ... ok\n",
      "test_DSLM_compute_overlap_factor_function_2 (tests.algorithms.subgroup_lists.test_dslm.TestDSLM) ... ok\n",
      "test_DSLM_compute_overlap_factor_function_3 (tests.algorithms.subgroup_lists.test_dslm.TestDSLM) ... ok\n",
      "test_DSLM_counter_of_subgroups_1 (tests.algorithms.subgroup_lists.test_dslm.TestDSLM) ... ok\n",
      "test_DSLM_counter_of_subgroups_2 (tests.algorithms.subgroup_lists.test_dslm.TestDSLM) ... ok\n",
      "test_GMSL_fit_method_1 (tests.algorithms.subgroup_lists.test_gmsl.TestGMSL) ... ok\n",
      "test_GMSL_load_candidates_method_1 (tests.algorithms.subgroup_lists.test_gmsl.TestGMSL) ... ok\n",
      "test_GMSL_load_candidates_method_2 (tests.algorithms.subgroup_lists.test_gmsl.TestGMSL) ... ok\n",
      "test_GMSL_load_candidates_method_3 (tests.algorithms.subgroup_lists.test_gmsl.TestGMSL) ... ok\n",
      "test_GMSL_load_candidates_method_4 (tests.algorithms.subgroup_lists.test_gmsl.TestGMSL) ... ok\n",
      "test_GMSL_load_candidates_method_5 (tests.algorithms.subgroup_lists.test_gmsl.TestGMSL) ... ok\n",
      "test_GMSL_mdl_functions_1 (tests.algorithms.subgroup_lists.test_gmsl.TestGMSL) ... ok\n",
      "test_GMSL_mdl_functions_2 (tests.algorithms.subgroup_lists.test_gmsl.TestGMSL) ... ok\n",
      "test_GMSL_mdl_functions_3 (tests.algorithms.subgroup_lists.test_gmsl.TestGMSL) ... "
     ]
    },
    {
     "name": "stdout",
     "output_type": "stream",
     "text": [
      "\n",
      "\n",
      "########################################\n",
      "########## ALGORITHMS PACKAGE ##########\n",
      "########################################\n"
     ]
    },
    {
     "name": "stderr",
     "output_type": "stream",
     "text": [
      "ok\n",
      "test_BSD_cardinality (tests.algorithms.subgroup_sets.test_bsd.TestBSD) ... ok\n",
      "test_BSD_checkRel (tests.algorithms.subgroup_sets.test_bsd.TestBSD) ... ok\n",
      "test_BSD_checkRelevancies (tests.algorithms.subgroup_sets.test_bsd.TestBSD) ... ok\n",
      "test_BSD_fit1 (tests.algorithms.subgroup_sets.test_bsd.TestBSD) ... ok\n",
      "test_BSD_fit2 (tests.algorithms.subgroup_sets.test_bsd.TestBSD) ... ok\n",
      "test_BSD_fit3 (tests.algorithms.subgroup_sets.test_bsd.TestBSD) ... ok\n",
      "test_BSD_fit4 (tests.algorithms.subgroup_sets.test_bsd.TestBSD) ... ERROR\n",
      "test_BSD_init_method (tests.algorithms.subgroup_sets.test_bsd.TestBSD) ... ok\n",
      "test_BSD_logicalAnd (tests.algorithms.subgroup_sets.test_bsd.TestBSD) ... ok\n",
      "test_CBSD_checkRel (tests.algorithms.subgroup_sets.test_cbsd.TestCBSD) ... ok\n",
      "test_CBSD_checkRelevancies (tests.algorithms.subgroup_sets.test_cbsd.TestCBSD) ... ok\n",
      "test_CBSD_fit1 (tests.algorithms.subgroup_sets.test_cbsd.TestCBSD) ... ok\n",
      "test_CBSD_fit2 (tests.algorithms.subgroup_sets.test_cbsd.TestCBSD) ... ok\n",
      "test_CBSD_fit3 (tests.algorithms.subgroup_sets.test_cbsd.TestCBSD) ... ok\n",
      "test_CBSD_fit4 (tests.algorithms.subgroup_sets.test_cbsd.TestCBSD) ... ERROR\n",
      "test_CBSD_init_method (tests.algorithms.subgroup_sets.test_cbsd.TestCBSD) ... ok\n",
      "test_CPBSD_checkRel (tests.algorithms.subgroup_sets.test_cpbsd.TestCPBSD) ... ok\n",
      "test_CPBSD_checkRelevancies (tests.algorithms.subgroup_sets.test_cpbsd.TestCPBSD) ... ok\n",
      "test_CPBSD_fit1 (tests.algorithms.subgroup_sets.test_cpbsd.TestCPBSD) ... ok\n",
      "test_CPBSD_fit2 (tests.algorithms.subgroup_sets.test_cpbsd.TestCPBSD) ... ok\n",
      "test_CPBSD_fit3 (tests.algorithms.subgroup_sets.test_cpbsd.TestCPBSD) ... ok\n",
      "test_CPBSD_fit4 (tests.algorithms.subgroup_sets.test_cpbsd.TestCPBSD) ... ERROR\n",
      "test_CPBSD_init_method (tests.algorithms.subgroup_sets.test_cpbsd.TestCPBSD) ... ok\n",
      "test_QFinder_fit (tests.algorithms.subgroup_sets.test_qfinder.TestQFinder) ... ok\n",
      "test_QFinder_generate_candidate_patterns1 (tests.algorithms.subgroup_sets.test_qfinder.TestQFinder) ... ok\n",
      "test_QFinder_generate_candidate_patterns2 (tests.algorithms.subgroup_sets.test_qfinder.TestQFinder) ... ok\n",
      "test_QFinder_handle_individual_result (tests.algorithms.subgroup_sets.test_qfinder.TestQFinder) ... ok\n",
      "test_QFinder_init_method1 (tests.algorithms.subgroup_sets.test_qfinder.TestQFinder) ... ok\n",
      "test_QFinder_init_method2 (tests.algorithms.subgroup_sets.test_qfinder.TestQFinder) ... ok\n",
      "test_SDMap_additional_parameters_in_fit_method (tests.algorithms.subgroup_sets.test_sdmap.TestSDMap) ... ok\n",
      "test_SDMap_fit_method_1 (tests.algorithms.subgroup_sets.test_sdmap.TestSDMap) ... ok\n",
      "test_SDMap_fit_method_10 (tests.algorithms.subgroup_sets.test_sdmap.TestSDMap) ... ok\n",
      "test_SDMap_fit_method_11 (tests.algorithms.subgroup_sets.test_sdmap.TestSDMap) ... ok\n",
      "test_SDMap_fit_method_2 (tests.algorithms.subgroup_sets.test_sdmap.TestSDMap) ... ERROR\n",
      "test_SDMap_fit_method_3 (tests.algorithms.subgroup_sets.test_sdmap.TestSDMap) ... ERROR\n",
      "test_SDMap_fit_method_4 (tests.algorithms.subgroup_sets.test_sdmap.TestSDMap) ... ERROR\n",
      "test_SDMap_fit_method_5 (tests.algorithms.subgroup_sets.test_sdmap.TestSDMap) ... ERROR\n",
      "test_SDMap_fit_method_6 (tests.algorithms.subgroup_sets.test_sdmap.TestSDMap) ... ERROR\n",
      "test_SDMap_fit_method_7 (tests.algorithms.subgroup_sets.test_sdmap.TestSDMap) ... ERROR\n",
      "test_SDMap_fit_method_8 (tests.algorithms.subgroup_sets.test_sdmap.TestSDMap) ... ERROR\n",
      "test_SDMap_fit_method_9 (tests.algorithms.subgroup_sets.test_sdmap.TestSDMap) ... ERROR\n",
      "test_SDMap_fpgrowth_method_1 (tests.algorithms.subgroup_sets.test_sdmap.TestSDMap) ... ok\n",
      "test_SDMap_fpgrowth_method_2 (tests.algorithms.subgroup_sets.test_sdmap.TestSDMap) ... ok\n",
      "test_SDMap_fpgrowth_method_3 (tests.algorithms.subgroup_sets.test_sdmap.TestSDMap) ... ok\n",
      "test_SDMap_fpgrowth_method_4 (tests.algorithms.subgroup_sets.test_sdmap.TestSDMap) ... ok\n",
      "test_SDMap_init_method_1 (tests.algorithms.subgroup_sets.test_sdmap.TestSDMap) ... ok\n",
      "test_SDMap_init_method_2 (tests.algorithms.subgroup_sets.test_sdmap.TestSDMap) ... ok\n",
      "test_SDMap_unselected_and_selected_subgroups (tests.algorithms.subgroup_sets.test_sdmap.TestSDMap) ... ok\n",
      "test_SDMapStar_additional_parameters_in_fit_method (tests.algorithms.subgroup_sets.test_sdmapstar.TestSDMapStar) ... ok\n",
      "test_SDMapStar_fit_method_1 (tests.algorithms.subgroup_sets.test_sdmapstar.TestSDMapStar) ... ok\n",
      "test_SDMapStar_fit_method_10 (tests.algorithms.subgroup_sets.test_sdmapstar.TestSDMapStar) ... ERROR\n",
      "test_SDMapStar_fit_method_2 (tests.algorithms.subgroup_sets.test_sdmapstar.TestSDMapStar) ... ERROR\n",
      "test_SDMapStar_fit_method_3 (tests.algorithms.subgroup_sets.test_sdmapstar.TestSDMapStar) ... ERROR\n",
      "test_SDMapStar_fit_method_4 (tests.algorithms.subgroup_sets.test_sdmapstar.TestSDMapStar) ... ERROR\n",
      "test_SDMapStar_fit_method_5 (tests.algorithms.subgroup_sets.test_sdmapstar.TestSDMapStar) ... ERROR\n",
      "test_SDMapStar_fit_method_6 (tests.algorithms.subgroup_sets.test_sdmapstar.TestSDMapStar) ... ERROR\n",
      "test_SDMapStar_fit_method_7 (tests.algorithms.subgroup_sets.test_sdmapstar.TestSDMapStar) ... ERROR\n",
      "test_SDMapStar_fit_method_8 (tests.algorithms.subgroup_sets.test_sdmapstar.TestSDMapStar) ... ERROR\n",
      "test_SDMapStar_fit_method_9 (tests.algorithms.subgroup_sets.test_sdmapstar.TestSDMapStar) ... ERROR\n",
      "test_SDMapStar_fpgrowth_method_1 (tests.algorithms.subgroup_sets.test_sdmapstar.TestSDMapStar) ... ok\n",
      "test_SDMapStar_fpgrowth_method_2 (tests.algorithms.subgroup_sets.test_sdmapstar.TestSDMapStar) ... ok\n",
      "test_SDMapStar_fpgrowth_method_3 (tests.algorithms.subgroup_sets.test_sdmapstar.TestSDMapStar) ... ok\n",
      "test_SDMapStar_fpgrowth_method_4 (tests.algorithms.subgroup_sets.test_sdmapstar.TestSDMapStar) ... ok\n",
      "test_SDMapStar_init_method_1 (tests.algorithms.subgroup_sets.test_sdmapstar.TestSDMapStar) ... ok\n",
      "test_SDMapStar_init_method_2 (tests.algorithms.subgroup_sets.test_sdmapstar.TestSDMapStar) ... ok\n",
      "test_SDMapStar_unselected_and_selected_subgroups_1 (tests.algorithms.subgroup_sets.test_sdmapstar.TestSDMapStar) ... ok\n",
      "test_SDMapStar_unselected_and_selected_subgroups_2 (tests.algorithms.subgroup_sets.test_sdmapstar.TestSDMapStar) ... ok\n",
      "test_VLSD_additional_parameters_in_fit_method (tests.algorithms.subgroup_sets.test_vlsd.TestVLSD) ... ok\n",
      "test_VLSD_fit_method_1 (tests.algorithms.subgroup_sets.test_vlsd.TestVLSD) ... ok\n",
      "test_VLSD_fit_method_2 (tests.algorithms.subgroup_sets.test_vlsd.TestVLSD) ... ERROR\n",
      "test_VLSD_fit_method_3 (tests.algorithms.subgroup_sets.test_vlsd.TestVLSD) ... ERROR\n",
      "test_VLSD_fit_method_4 (tests.algorithms.subgroup_sets.test_vlsd.TestVLSD) ... ERROR\n",
      "test_VLSD_fit_method_5 (tests.algorithms.subgroup_sets.test_vlsd.TestVLSD) ... ERROR\n",
      "test_VLSD_fit_method_6 (tests.algorithms.subgroup_sets.test_vlsd.TestVLSD) ... ERROR\n",
      "test_VLSD_fit_method_7 (tests.algorithms.subgroup_sets.test_vlsd.TestVLSD) ... ERROR\n",
      "test_VLSD_init_method_1 (tests.algorithms.subgroup_sets.test_vlsd.TestVLSD) ... ok\n",
      "test_VLSD_init_method_2 (tests.algorithms.subgroup_sets.test_vlsd.TestVLSD) ... ok\n",
      "\n",
      "======================================================================\n",
      "ERROR: test_BSD_fit4 (tests.algorithms.subgroup_sets.test_bsd.TestBSD)\n",
      "----------------------------------------------------------------------\n",
      "Traceback (most recent call last):\n",
      "  File \"C:\\Users\\almc\\anaconda3\\lib\\site-packages\\subgroups\\tests\\algorithms\\subgroup_sets\\test_bsd.py\", line 117, in test_BSD_fit4\n",
      "    remove(\"./results.txt\")\n",
      "PermissionError: [WinError 32] El proceso no tiene acceso al archivo porque está siendo utilizado por otro proceso: './results.txt'\n",
      "\n",
      "======================================================================\n",
      "ERROR: test_CBSD_fit4 (tests.algorithms.subgroup_sets.test_cbsd.TestCBSD)\n",
      "----------------------------------------------------------------------\n",
      "Traceback (most recent call last):\n",
      "  File \"C:\\Users\\almc\\anaconda3\\lib\\site-packages\\subgroups\\tests\\algorithms\\subgroup_sets\\test_cbsd.py\", line 104, in test_CBSD_fit4\n",
      "    remove(\"./results.txt\")\n",
      "PermissionError: [WinError 32] El proceso no tiene acceso al archivo porque está siendo utilizado por otro proceso: './results.txt'\n",
      "\n",
      "======================================================================\n",
      "ERROR: test_CPBSD_fit4 (tests.algorithms.subgroup_sets.test_cpbsd.TestCPBSD)\n",
      "----------------------------------------------------------------------\n",
      "Traceback (most recent call last):\n",
      "  File \"C:\\Users\\almc\\anaconda3\\lib\\site-packages\\subgroups\\tests\\algorithms\\subgroup_sets\\test_cpbsd.py\", line 103, in test_CPBSD_fit4\n",
      "    remove(\"./results.txt\")\n",
      "PermissionError: [WinError 32] El proceso no tiene acceso al archivo porque está siendo utilizado por otro proceso: './results.txt'\n",
      "\n",
      "======================================================================\n",
      "ERROR: test_SDMap_fit_method_2 (tests.algorithms.subgroup_sets.test_sdmap.TestSDMap)\n",
      "----------------------------------------------------------------------\n",
      "Traceback (most recent call last):\n",
      "  File \"C:\\Users\\almc\\anaconda3\\lib\\site-packages\\subgroups\\tests\\algorithms\\subgroup_sets\\test_sdmap.py\", line 168, in test_SDMap_fit_method_2\n",
      "    remove(\"./results.txt\")\n",
      "PermissionError: [WinError 32] El proceso no tiene acceso al archivo porque está siendo utilizado por otro proceso: './results.txt'\n",
      "\n",
      "======================================================================\n",
      "ERROR: test_SDMap_fit_method_3 (tests.algorithms.subgroup_sets.test_sdmap.TestSDMap)\n",
      "----------------------------------------------------------------------\n",
      "Traceback (most recent call last):\n",
      "  File \"C:\\Users\\almc\\anaconda3\\lib\\site-packages\\subgroups\\tests\\algorithms\\subgroup_sets\\test_sdmap.py\", line 187, in test_SDMap_fit_method_3\n",
      "    remove(\"./results.txt\")\n",
      "PermissionError: [WinError 32] El proceso no tiene acceso al archivo porque está siendo utilizado por otro proceso: './results.txt'\n",
      "\n",
      "======================================================================\n",
      "ERROR: test_SDMap_fit_method_4 (tests.algorithms.subgroup_sets.test_sdmap.TestSDMap)\n",
      "----------------------------------------------------------------------\n",
      "Traceback (most recent call last):\n",
      "  File \"C:\\Users\\almc\\anaconda3\\lib\\site-packages\\subgroups\\tests\\algorithms\\subgroup_sets\\test_sdmap.py\", line 206, in test_SDMap_fit_method_4\n",
      "    remove(\"./results.txt\")\n",
      "PermissionError: [WinError 32] El proceso no tiene acceso al archivo porque está siendo utilizado por otro proceso: './results.txt'\n",
      "\n",
      "======================================================================\n",
      "ERROR: test_SDMap_fit_method_5 (tests.algorithms.subgroup_sets.test_sdmap.TestSDMap)\n",
      "----------------------------------------------------------------------\n",
      "Traceback (most recent call last):\n",
      "  File \"C:\\Users\\almc\\anaconda3\\lib\\site-packages\\subgroups\\tests\\algorithms\\subgroup_sets\\test_sdmap.py\", line 236, in test_SDMap_fit_method_5\n",
      "    remove(\"./results.txt\")\n",
      "PermissionError: [WinError 32] El proceso no tiene acceso al archivo porque está siendo utilizado por otro proceso: './results.txt'\n",
      "\n",
      "======================================================================\n",
      "ERROR: test_SDMap_fit_method_6 (tests.algorithms.subgroup_sets.test_sdmap.TestSDMap)\n",
      "----------------------------------------------------------------------\n",
      "Traceback (most recent call last):\n",
      "  File \"C:\\Users\\almc\\anaconda3\\lib\\site-packages\\subgroups\\tests\\algorithms\\subgroup_sets\\test_sdmap.py\", line 266, in test_SDMap_fit_method_6\n",
      "    remove(\"./results.txt\")\n",
      "PermissionError: [WinError 32] El proceso no tiene acceso al archivo porque está siendo utilizado por otro proceso: './results.txt'\n",
      "\n",
      "======================================================================\n",
      "ERROR: test_SDMap_fit_method_7 (tests.algorithms.subgroup_sets.test_sdmap.TestSDMap)\n",
      "----------------------------------------------------------------------\n",
      "Traceback (most recent call last):\n",
      "  File \"C:\\Users\\almc\\anaconda3\\lib\\site-packages\\subgroups\\tests\\algorithms\\subgroup_sets\\test_sdmap.py\", line 295, in test_SDMap_fit_method_7\n",
      "    remove(\"./results.txt\")\n",
      "PermissionError: [WinError 32] El proceso no tiene acceso al archivo porque está siendo utilizado por otro proceso: './results.txt'\n",
      "\n",
      "======================================================================\n",
      "ERROR: test_SDMap_fit_method_8 (tests.algorithms.subgroup_sets.test_sdmap.TestSDMap)\n",
      "----------------------------------------------------------------------\n",
      "Traceback (most recent call last):\n",
      "  File \"C:\\Users\\almc\\anaconda3\\lib\\site-packages\\subgroups\\tests\\algorithms\\subgroup_sets\\test_sdmap.py\", line 324, in test_SDMap_fit_method_8\n",
      "    remove(\"./results.txt\")\n",
      "PermissionError: [WinError 32] El proceso no tiene acceso al archivo porque está siendo utilizado por otro proceso: './results.txt'\n",
      "\n",
      "======================================================================\n",
      "ERROR: test_SDMap_fit_method_9 (tests.algorithms.subgroup_sets.test_sdmap.TestSDMap)\n",
      "----------------------------------------------------------------------\n",
      "Traceback (most recent call last):\n",
      "  File \"C:\\Users\\almc\\anaconda3\\lib\\site-packages\\subgroups\\tests\\algorithms\\subgroup_sets\\test_sdmap.py\", line 344, in test_SDMap_fit_method_9\n",
      "    remove(\"./results.txt\")\n",
      "PermissionError: [WinError 32] El proceso no tiene acceso al archivo porque está siendo utilizado por otro proceso: './results.txt'\n",
      "\n",
      "======================================================================\n",
      "ERROR: test_SDMapStar_fit_method_10 (tests.algorithms.subgroup_sets.test_sdmapstar.TestSDMapStar)\n",
      "----------------------------------------------------------------------\n",
      "Traceback (most recent call last):\n",
      "  File \"C:\\Users\\almc\\anaconda3\\lib\\site-packages\\subgroups\\tests\\algorithms\\subgroup_sets\\test_sdmapstar.py\", line 376, in test_SDMapStar_fit_method_10\n",
      "    remove(\"./results.txt\")\n",
      "PermissionError: [WinError 32] El proceso no tiene acceso al archivo porque está siendo utilizado por otro proceso: './results.txt'\n",
      "\n",
      "======================================================================\n",
      "ERROR: test_SDMapStar_fit_method_2 (tests.algorithms.subgroup_sets.test_sdmapstar.TestSDMapStar)\n",
      "----------------------------------------------------------------------\n",
      "Traceback (most recent call last):\n",
      "  File \"C:\\Users\\almc\\anaconda3\\lib\\site-packages\\subgroups\\tests\\algorithms\\subgroup_sets\\test_sdmapstar.py\", line 169, in test_SDMapStar_fit_method_2\n",
      "    remove(\"./results.txt\")\n",
      "PermissionError: [WinError 32] El proceso no tiene acceso al archivo porque está siendo utilizado por otro proceso: './results.txt'\n",
      "\n",
      "======================================================================\n",
      "ERROR: test_SDMapStar_fit_method_3 (tests.algorithms.subgroup_sets.test_sdmapstar.TestSDMapStar)\n",
      "----------------------------------------------------------------------\n",
      "Traceback (most recent call last):\n",
      "  File \"C:\\Users\\almc\\anaconda3\\lib\\site-packages\\subgroups\\tests\\algorithms\\subgroup_sets\\test_sdmapstar.py\", line 188, in test_SDMapStar_fit_method_3\n",
      "    remove(\"./results.txt\")\n",
      "PermissionError: [WinError 32] El proceso no tiene acceso al archivo porque está siendo utilizado por otro proceso: './results.txt'\n",
      "\n",
      "======================================================================\n",
      "ERROR: test_SDMapStar_fit_method_4 (tests.algorithms.subgroup_sets.test_sdmapstar.TestSDMapStar)\n",
      "----------------------------------------------------------------------\n",
      "Traceback (most recent call last):\n",
      "  File \"C:\\Users\\almc\\anaconda3\\lib\\site-packages\\subgroups\\tests\\algorithms\\subgroup_sets\\test_sdmapstar.py\", line 207, in test_SDMapStar_fit_method_4\n",
      "    remove(\"./results.txt\")\n",
      "PermissionError: [WinError 32] El proceso no tiene acceso al archivo porque está siendo utilizado por otro proceso: './results.txt'\n",
      "\n",
      "======================================================================\n",
      "ERROR: test_SDMapStar_fit_method_5 (tests.algorithms.subgroup_sets.test_sdmapstar.TestSDMapStar)\n",
      "----------------------------------------------------------------------\n",
      "Traceback (most recent call last):\n",
      "  File \"C:\\Users\\almc\\anaconda3\\lib\\site-packages\\subgroups\\tests\\algorithms\\subgroup_sets\\test_sdmapstar.py\", line 237, in test_SDMapStar_fit_method_5\n",
      "    remove(\"./results.txt\")\n",
      "PermissionError: [WinError 32] El proceso no tiene acceso al archivo porque está siendo utilizado por otro proceso: './results.txt'\n",
      "\n",
      "======================================================================\n",
      "ERROR: test_SDMapStar_fit_method_6 (tests.algorithms.subgroup_sets.test_sdmapstar.TestSDMapStar)\n",
      "----------------------------------------------------------------------\n",
      "Traceback (most recent call last):\n",
      "  File \"C:\\Users\\almc\\anaconda3\\lib\\site-packages\\subgroups\\tests\\algorithms\\subgroup_sets\\test_sdmapstar.py\", line 267, in test_SDMapStar_fit_method_6\n",
      "    remove(\"./results.txt\")\n",
      "PermissionError: [WinError 32] El proceso no tiene acceso al archivo porque está siendo utilizado por otro proceso: './results.txt'\n",
      "\n",
      "======================================================================\n",
      "ERROR: test_SDMapStar_fit_method_7 (tests.algorithms.subgroup_sets.test_sdmapstar.TestSDMapStar)\n",
      "----------------------------------------------------------------------\n",
      "Traceback (most recent call last):\n",
      "  File \"C:\\Users\\almc\\anaconda3\\lib\\site-packages\\subgroups\\tests\\algorithms\\subgroup_sets\\test_sdmapstar.py\", line 296, in test_SDMapStar_fit_method_7\n",
      "    remove(\"./results.txt\")\n",
      "PermissionError: [WinError 32] El proceso no tiene acceso al archivo porque está siendo utilizado por otro proceso: './results.txt'\n",
      "\n",
      "======================================================================\n",
      "ERROR: test_SDMapStar_fit_method_8 (tests.algorithms.subgroup_sets.test_sdmapstar.TestSDMapStar)\n",
      "----------------------------------------------------------------------\n",
      "Traceback (most recent call last):\n",
      "  File \"C:\\Users\\almc\\anaconda3\\lib\\site-packages\\subgroups\\tests\\algorithms\\subgroup_sets\\test_sdmapstar.py\", line 325, in test_SDMapStar_fit_method_8\n",
      "    remove(\"./results.txt\")\n",
      "PermissionError: [WinError 32] El proceso no tiene acceso al archivo porque está siendo utilizado por otro proceso: './results.txt'\n",
      "\n",
      "======================================================================\n",
      "ERROR: test_SDMapStar_fit_method_9 (tests.algorithms.subgroup_sets.test_sdmapstar.TestSDMapStar)\n",
      "----------------------------------------------------------------------\n",
      "Traceback (most recent call last):\n",
      "  File \"C:\\Users\\almc\\anaconda3\\lib\\site-packages\\subgroups\\tests\\algorithms\\subgroup_sets\\test_sdmapstar.py\", line 345, in test_SDMapStar_fit_method_9\n",
      "    remove(\"./results.txt\")\n",
      "PermissionError: [WinError 32] El proceso no tiene acceso al archivo porque está siendo utilizado por otro proceso: './results.txt'\n",
      "\n",
      "======================================================================\n",
      "ERROR: test_VLSD_fit_method_2 (tests.algorithms.subgroup_sets.test_vlsd.TestVLSD)\n",
      "----------------------------------------------------------------------\n",
      "Traceback (most recent call last):\n",
      "  File \"C:\\Users\\almc\\anaconda3\\lib\\site-packages\\subgroups\\tests\\algorithms\\subgroup_sets\\test_vlsd.py\", line 110, in test_VLSD_fit_method_2\n",
      "    remove(\"./results.txt\")\n",
      "PermissionError: [WinError 32] El proceso no tiene acceso al archivo porque está siendo utilizado por otro proceso: './results.txt'\n",
      "\n",
      "======================================================================\n",
      "ERROR: test_VLSD_fit_method_3 (tests.algorithms.subgroup_sets.test_vlsd.TestVLSD)\n",
      "----------------------------------------------------------------------\n",
      "Traceback (most recent call last):\n",
      "  File \"C:\\Users\\almc\\anaconda3\\lib\\site-packages\\subgroups\\tests\\algorithms\\subgroup_sets\\test_vlsd.py\", line 178, in test_VLSD_fit_method_3\n",
      "    remove(\"./results.txt\")\n",
      "PermissionError: [WinError 32] El proceso no tiene acceso al archivo porque está siendo utilizado por otro proceso: './results.txt'\n",
      "\n",
      "======================================================================\n",
      "ERROR: test_VLSD_fit_method_4 (tests.algorithms.subgroup_sets.test_vlsd.TestVLSD)\n",
      "----------------------------------------------------------------------\n",
      "Traceback (most recent call last):\n",
      "  File \"C:\\Users\\almc\\anaconda3\\lib\\site-packages\\subgroups\\tests\\algorithms\\subgroup_sets\\test_vlsd.py\", line 205, in test_VLSD_fit_method_4\n",
      "    remove(\"./results.txt\")\n",
      "PermissionError: [WinError 32] El proceso no tiene acceso al archivo porque está siendo utilizado por otro proceso: './results.txt'\n",
      "\n",
      "======================================================================\n",
      "ERROR: test_VLSD_fit_method_5 (tests.algorithms.subgroup_sets.test_vlsd.TestVLSD)\n",
      "----------------------------------------------------------------------\n",
      "Traceback (most recent call last):\n",
      "  File \"C:\\Users\\almc\\anaconda3\\lib\\site-packages\\subgroups\\tests\\algorithms\\subgroup_sets\\test_vlsd.py\", line 233, in test_VLSD_fit_method_5\n",
      "    remove(\"./results.txt\")\n",
      "PermissionError: [WinError 32] El proceso no tiene acceso al archivo porque está siendo utilizado por otro proceso: './results.txt'\n",
      "\n",
      "======================================================================\n",
      "ERROR: test_VLSD_fit_method_6 (tests.algorithms.subgroup_sets.test_vlsd.TestVLSD)\n",
      "----------------------------------------------------------------------\n",
      "Traceback (most recent call last):\n",
      "  File \"C:\\Users\\almc\\anaconda3\\lib\\site-packages\\subgroups\\tests\\algorithms\\subgroup_sets\\test_vlsd.py\", line 273, in test_VLSD_fit_method_6\n",
      "    remove(\"./results.txt\")\n",
      "PermissionError: [WinError 32] El proceso no tiene acceso al archivo porque está siendo utilizado por otro proceso: './results.txt'\n",
      "\n",
      "======================================================================\n",
      "ERROR: test_VLSD_fit_method_7 (tests.algorithms.subgroup_sets.test_vlsd.TestVLSD)\n",
      "----------------------------------------------------------------------\n",
      "Traceback (most recent call last):\n",
      "  File \"C:\\Users\\almc\\anaconda3\\lib\\site-packages\\subgroups\\tests\\algorithms\\subgroup_sets\\test_vlsd.py\", line 313, in test_VLSD_fit_method_7\n",
      "    remove(\"./results.txt\")\n",
      "PermissionError: [WinError 32] El proceso no tiene acceso al archivo porque está siendo utilizado por otro proceso: './results.txt'\n",
      "\n",
      "----------------------------------------------------------------------\n",
      "Ran 91 tests in 1.954s\n",
      "\n",
      "FAILED (errors=26)\n",
      "test_dataframe_filters_general (tests.utils.test_dataframe_filters.TestDataFrameFilter) ... "
     ]
    },
    {
     "name": "stdout",
     "output_type": "stream",
     "text": [
      "\n",
      "\n",
      "###################################\n",
      "########## UTILS PACKAGE ##########\n",
      "###################################\n"
     ]
    },
    {
     "name": "stderr",
     "output_type": "stream",
     "text": [
      "ok\n",
      "\n",
      "----------------------------------------------------------------------\n",
      "Ran 1 test in 0.006s\n",
      "\n",
      "OK\n"
     ]
    }
   ],
   "source": [
    "import subgroups.tests as st\n",
    "st.run_all_tests()"
   ]
  },
  {
   "cell_type": "markdown",
   "metadata": {
    "id": "JFbLxaeKV63S"
   },
   "source": [
    "## Running the SDMap* algorithm\n",
    "\n",
    "To run the SDMap* algorithm on a dataset, it is necessary to follow these steps:\n",
    "\n",
    "- Load the dataset into a Pandas `DataFrame` object.\n",
    "- Set the target, which must be a tuple of the form (column_name, value).\n",
    "- Select the quality measure and optimistic estimate to use.\n",
    "- Create the SDMap* model with the desired parameters and run it."
   ]
  },
  {
   "cell_type": "markdown",
   "metadata": {},
   "source": [
    "The following is an example of running this algorithm on a small dataset:"
   ]
  },
  {
   "cell_type": "code",
   "execution_count": 3,
   "metadata": {
    "id": "8_eYcfMrV63U"
   },
   "outputs": [],
   "source": [
    "from pandas import DataFrame\n",
    "from subgroups.algorithms import SDMapStar\n",
    "from subgroups.quality_measures import WRAcc\n",
    "from subgroups.quality_measures import WRAccOptimisticEstimate1\n",
    "\n",
    "dataset = DataFrame({'att1': ['v3', 'v2', 'v1', 'v3', 'v4', 'v4'], 'att2': ['1', '2', '3', '3', '5', '6'], 'att3': ['B', 'A', 'A', 'B', 'A', 'B'], 'class': ['0', '1', '0', '0', '1', '1']})\n",
    "target = (\"class\", \"1\")\n",
    "\n",
    "model = SDMapStar(WRAcc(), WRAccOptimisticEstimate1(), 0.01, num_subgroups=3, minimum_n = 0, write_results_in_file=True, file_path=\"./results.txt\")\n",
    "model.fit(dataset, target)"
   ]
  },
  {
   "cell_type": "markdown",
   "metadata": {
    "id": "fVCNrvlyV63V"
   },
   "source": [
    "## Results\n",
    "\n",
    "Running the following cell, we get the output of the first subgroups found by the algorithm:"
   ]
  },
  {
   "cell_type": "code",
   "execution_count": 4,
   "metadata": {
    "id": "53niFAG7V63V",
    "outputId": "c27d2fed-5dd6-4d50-8566-9633a3cbe953"
   },
   "outputs": [
    {
     "name": "stdout",
     "output_type": "stream",
     "text": [
      "Description: [att1 = 'v4'], Target: class = '1' ; Quality Measure WRAcc = 0.16666666666666666 ; tp = 2 ; fp = 0 ; TP = 3 ; FP = 3\n",
      "Description: [att1 = 'v4', att3 = 'B'], Target: class = '1' ; Quality Measure WRAcc = 0.08333333333333333 ; tp = 1 ; fp = 0 ; TP = 3 ; FP = 3\n",
      "Description: [att1 = 'v4', att3 = 'A'], Target: class = '1' ; Quality Measure WRAcc = 0.08333333333333333 ; tp = 1 ; fp = 0 ; TP = 3 ; FP = 3\n",
      "Description: [att3 = 'A'], Target: class = '1' ; Quality Measure WRAcc = 0.08333333333333331 ; tp = 2 ; fp = 1 ; TP = 3 ; FP = 3\n",
      "Description: [att2 = '6'], Target: class = '1' ; Quality Measure WRAcc = 0.08333333333333333 ; tp = 1 ; fp = 0 ; TP = 3 ; FP = 3\n",
      "Description: [att1 = 'v4', att2 = '6'], Target: class = '1' ; Quality Measure WRAcc = 0.08333333333333333 ; tp = 1 ; fp = 0 ; TP = 3 ; FP = 3\n",
      "Description: [att2 = '6', att3 = 'B'], Target: class = '1' ; Quality Measure WRAcc = 0.08333333333333333 ; tp = 1 ; fp = 0 ; TP = 3 ; FP = 3\n",
      "Description: [att1 = 'v4', att2 = '6', att3 = 'B'], Target: class = '1' ; Quality Measure WRAcc = 0.08333333333333333 ; tp = 1 ; fp = 0 ; TP = 3 ; FP = 3\n",
      "Description: [att2 = '5'], Target: class = '1' ; Quality Measure WRAcc = 0.08333333333333333 ; tp = 1 ; fp = 0 ; TP = 3 ; FP = 3\n",
      "Description: [att1 = 'v4', att2 = '5'], Target: class = '1' ; Quality Measure WRAcc = 0.08333333333333333 ; tp = 1 ; fp = 0 ; TP = 3 ; FP = 3\n"
     ]
    }
   ],
   "source": [
    "subgroups_to_read = 10\n",
    "with open(\"./results.txt\", \"r\") as file:\n",
    "    while(subgroups_to_read > 0):\n",
    "        current_line = file.readline()\n",
    "        print(current_line.strip())\n",
    "        subgroups_to_read = subgroups_to_read - 1"
   ]
  },
  {
   "cell_type": "markdown",
   "metadata": {
    "id": "UcDBUGOSV63W"
   },
   "source": [
    "We can also access different statistics about the result:"
   ]
  },
  {
   "cell_type": "code",
   "execution_count": 5,
   "metadata": {
    "id": "cnK8zgWfV63W",
    "outputId": "883c8ad5-9a0e-4ef1-b625-fcc3b9b8025c"
   },
   "outputs": [
    {
     "name": "stdout",
     "output_type": "stream",
     "text": [
      "Pruned subgroups:  4\n",
      "Conditional pruned branches:  0\n",
      "Selected subgroups:  18\n",
      "Unselected subgroups:  1\n",
      "Visited nodes:  19\n"
     ]
    }
   ],
   "source": [
    "print(\"Pruned subgroups: \", model.pruned_subgroups) # Number of subgroups pruned by the threshold of the best subgroups\n",
    "print(\"Conditional pruned branches: \", model.conditional_pruned_branches) # Number of branches pruned from some conditional FPTree by the threshold of the best subgroups\n",
    "print(\"Selected subgroups: \", model.selected_subgroups) # Number of selected subgroups\n",
    "print(\"Unselected subgroups: \", model.unselected_subgroups) # Number of unselected subgroups due to not meeting the minimum quality threshold\n",
    "print(\"Visited nodes: \", model.visited_nodes) # Number of nodes (subgroups) visited from the search space"
   ]
  },
  {
   "cell_type": "markdown",
   "metadata": {},
   "source": [
    "# References"
   ]
  },
  {
   "cell_type": "markdown",
   "metadata": {
    "id": "1YFyaeDvV63X"
   },
   "source": [
    "<a id=\"1\">[1]</a>\n",
    "Atzmueller, M., Lemmerich, F. (2009). Fast Subgroup Discovery for Continuous Target Concepts. In: Rauch, J., Raś, Z.W., Berka, P., Elomaa, T. (eds) Foundations of Intelligent Systems. ISMIS 2009. Lecture Notes in Computer Science(), vol 5722. Springer, Berlin, Heidelberg. https://doi.org/10.1007/978-3-642-04125-9_7"
   ]
  }
 ],
 "metadata": {
  "colab": {
   "provenance": []
  },
  "kernelspec": {
   "display_name": "Python 3 (ipykernel)",
   "language": "python",
   "name": "python3"
  },
  "language_info": {
   "codemirror_mode": {
    "name": "ipython",
    "version": 3
   },
   "file_extension": ".py",
   "mimetype": "text/x-python",
   "name": "python",
   "nbconvert_exporter": "python",
   "pygments_lexer": "ipython3",
   "version": "3.9.7"
  },
  "vscode": {
   "interpreter": {
    "hash": "ed740e98965fee7d8cb20e68ca1c88933f4961e20453b86da91f871f702c6022"
   }
  }
 },
 "nbformat": 4,
 "nbformat_minor": 1
}
